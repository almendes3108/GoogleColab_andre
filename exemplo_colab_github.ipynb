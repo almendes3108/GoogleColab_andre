{
  "nbformat": 4,
  "nbformat_minor": 0,
  "metadata": {
    "colab": {
      "name": "exemplo_colab_github.ipynb",
      "provenance": [],
      "collapsed_sections": [],
      "authorship_tag": "ABX9TyOHxNmX0wtQZcGK2VKbLodV",
      "include_colab_link": true
    },
    "kernelspec": {
      "name": "python3",
      "display_name": "Python 3"
    },
    "language_info": {
      "name": "python"
    }
  },
  "cells": [
    {
      "cell_type": "markdown",
      "metadata": {
        "id": "view-in-github",
        "colab_type": "text"
      },
      "source": [
        "<a href=\"https://colab.research.google.com/github/almendes3108/GoogleColab_andre/blob/main/exemplo_colab_github.ipynb\" target=\"_parent\"><img src=\"https://colab.research.google.com/assets/colab-badge.svg\" alt=\"Open In Colab\"/></a>"
      ]
    },
    {
      "cell_type": "code",
      "metadata": {
        "id": "pRUiP5xRBp6B"
      },
      "source": [
        ""
      ],
      "execution_count": null,
      "outputs": []
    },
    {
      "cell_type": "markdown",
      "metadata": {
        "id": "JRE8CE8-BqYP"
      },
      "source": [
        "Esta é uma célula de texto!"
      ]
    },
    {
      "cell_type": "code",
      "metadata": {
        "id": "SkW5XTE0BvC1"
      },
      "source": [
        "print('esta é uma célula de código modificada!')"
      ],
      "execution_count": null,
      "outputs": []
    },
    {
      "cell_type": "code",
      "metadata": {
        "id": "H9YX-bOFCDgC"
      },
      "source": [
        "from matplotlib import pyplot\n",
        "pyplot.plot([1,2,3,4,5])"
      ],
      "execution_count": null,
      "outputs": []
    }
  ]
}